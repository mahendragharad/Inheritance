{
  "nbformat": 4,
  "nbformat_minor": 0,
  "metadata": {
    "colab": {
      "provenance": []
    },
    "kernelspec": {
      "name": "python3",
      "display_name": "Python 3"
    },
    "language_info": {
      "name": "python"
    }
  },
  "cells": [
    {
      "cell_type": "markdown",
      "source": [
        "#####**INHERITANCE :**\n",
        "\n",
        "**Inheritance means just try to inherit the properties of parent class**\n",
        "\n",
        "**Main objective of inheritance or the oops concept in python is that reusability of the code (so we don't need to write same code for multiple times)**\n",
        "\n",
        "**INHERITANCE**\n",
        "      \n",
        "      Parent class \n",
        "           |\n",
        "    proerties of parent class\n",
        "           |\n",
        "      child class \n",
        "\n",
        "\n",
        "Types of inheritance :     \n",
        "\n",
        "\n",
        "*   Single Inheritance \n",
        "\n",
        "*   Multiple Inheritance \n",
        "\n",
        "*   Multilevel Inheritance \n",
        "\n",
        "*   Hierachical Inheritance \n",
        "\n",
        "*   Hybrid Inheritance\n",
        "\n",
        "    "
      ],
      "metadata": {
        "id": "8V3lB-NGk_S6"
      }
    },
    {
      "cell_type": "code",
      "execution_count": null,
      "metadata": {
        "id": "FFZc6FE7k9qo"
      },
      "outputs": [],
      "source": [
        "# Single inheritance \n",
        "\n",
        "class parent :\n",
        "  def func1(self) :\n",
        "    print(\"this is the parent class\")\n",
        "\n",
        "class child (parent) :\n",
        "  def func2(self) :\n",
        "    print(\"this is child class\")\n"
      ]
    },
    {
      "cell_type": "code",
      "source": [
        "# To access the properties of all the classes the we have to create object of the \n",
        "# child class\n",
        "obj1 = child()"
      ],
      "metadata": {
        "id": "u8p3ZHA4ex7C"
      },
      "execution_count": null,
      "outputs": []
    },
    {
      "cell_type": "code",
      "source": [
        "obj1.func1()"
      ],
      "metadata": {
        "colab": {
          "base_uri": "https://localhost:8080/"
        },
        "id": "aTlnnz9ce8CH",
        "outputId": "ba816c86-bc10-4558-bc01-92d1ec323940"
      },
      "execution_count": null,
      "outputs": [
        {
          "output_type": "stream",
          "name": "stdout",
          "text": [
            "this is the parent class\n"
          ]
        }
      ]
    },
    {
      "cell_type": "code",
      "source": [
        "obj1.func2()"
      ],
      "metadata": {
        "colab": {
          "base_uri": "https://localhost:8080/"
        },
        "id": "uL7d6tUcfBhm",
        "outputId": "66b14160-b5f0-41bc-eb24-ed3ed8630888"
      },
      "execution_count": null,
      "outputs": [
        {
          "output_type": "stream",
          "name": "stdout",
          "text": [
            "this is child class\n"
          ]
        }
      ]
    },
    {
      "cell_type": "code",
      "source": [
        "class IMS :\n",
        "\n",
        "  clg_name = 'Institute of management of studies warud'\n",
        "  stu_name = 'Mahendra' \n",
        "\n",
        "  def collge(self) :\n",
        "    print( \"Name of college : \" , self.clg_name)\n",
        "  def na_me(self) :\n",
        "    print(\" Name of student : \" , self.stu_name)\n",
        "\n",
        "class another_one(IMS) :\n",
        "  \n",
        "  def child(self) :\n",
        "    print(\"This is the child class :\")\n"
      ],
      "metadata": {
        "id": "wmM3-CWzfEUX"
      },
      "execution_count": null,
      "outputs": []
    },
    {
      "cell_type": "code",
      "source": [
        "obj2 = another_one()"
      ],
      "metadata": {
        "id": "5ZRK2-jHh9bh"
      },
      "execution_count": null,
      "outputs": []
    },
    {
      "cell_type": "code",
      "source": [
        "obj2.collge()"
      ],
      "metadata": {
        "colab": {
          "base_uri": "https://localhost:8080/"
        },
        "id": "LoxynxduiCH8",
        "outputId": "4e46f6b1-351d-4569-a260-c2635d71a64c"
      },
      "execution_count": null,
      "outputs": [
        {
          "output_type": "stream",
          "name": "stdout",
          "text": [
            "Name of college :  Institute of management of studies warud\n"
          ]
        }
      ]
    },
    {
      "cell_type": "code",
      "source": [
        "obj2.na_me()"
      ],
      "metadata": {
        "colab": {
          "base_uri": "https://localhost:8080/"
        },
        "id": "YBTnlANDiG19",
        "outputId": "a28c0ba1-afcf-4cc9-e4f7-89cdddc66a26"
      },
      "execution_count": null,
      "outputs": [
        {
          "output_type": "stream",
          "name": "stdout",
          "text": [
            " Name of student :  Mahendra\n"
          ]
        }
      ]
    },
    {
      "cell_type": "code",
      "source": [
        "obj2.clg_name"
      ],
      "metadata": {
        "colab": {
          "base_uri": "https://localhost:8080/",
          "height": 36
        },
        "id": "yh97EJNUiL7N",
        "outputId": "c4529d80-d4e8-4251-bcdd-98d5e5a3761e"
      },
      "execution_count": null,
      "outputs": [
        {
          "output_type": "execute_result",
          "data": {
            "text/plain": [
              "'Institute of management of studies warud'"
            ],
            "application/vnd.google.colaboratory.intrinsic+json": {
              "type": "string"
            }
          },
          "metadata": {},
          "execution_count": 9
        }
      ]
    },
    {
      "cell_type": "code",
      "source": [
        "obj2.na_me()"
      ],
      "metadata": {
        "colab": {
          "base_uri": "https://localhost:8080/"
        },
        "id": "BBkezCN4iOjV",
        "outputId": "712ab244-0d27-40ca-d0b2-14489cc959f2"
      },
      "execution_count": null,
      "outputs": [
        {
          "output_type": "stream",
          "name": "stdout",
          "text": [
            " Name of student :  Mahendra\n"
          ]
        }
      ]
    },
    {
      "cell_type": "markdown",
      "source": [
        "**Multiple Inheritance**\n",
        "\n",
        "    Parent class \n",
        "       |\n",
        "    Parent class\n",
        "       |\n",
        "    proerties of parent classes\n",
        "       |\n",
        "    child class "
      ],
      "metadata": {
        "id": "Nd5X-pDPjz-l"
      }
    },
    {
      "cell_type": "markdown",
      "source": [
        "**Multiple parent classes with one single child class**"
      ],
      "metadata": {
        "id": "LfLfKzVw09V7"
      }
    },
    {
      "cell_type": "code",
      "source": [
        "# Multiple Inheritance \n",
        "\n",
        "class parent1 :\n",
        "  def class1(self) :\n",
        "    print(\"This is the from parent1\")\n",
        "\n",
        "class parent2 :\n",
        "  def class2(self) :\n",
        "    print(\"This is from parent2\")\n",
        "\n",
        "class child( parent1 , parent2 ) :\n",
        "  def child_class(self) :\n",
        "    print(\"This is from child class\")"
      ],
      "metadata": {
        "id": "qj8yU_SliTqU"
      },
      "execution_count": null,
      "outputs": []
    },
    {
      "cell_type": "code",
      "source": [
        "obj3 = child()"
      ],
      "metadata": {
        "id": "70hI9UV9lSAQ"
      },
      "execution_count": null,
      "outputs": []
    },
    {
      "cell_type": "code",
      "source": [
        "obj3.class1()"
      ],
      "metadata": {
        "colab": {
          "base_uri": "https://localhost:8080/"
        },
        "id": "Z6010DK7ljaT",
        "outputId": "c9626295-e399-4e45-a1ab-879c52b80c49"
      },
      "execution_count": null,
      "outputs": [
        {
          "output_type": "stream",
          "name": "stdout",
          "text": [
            "This is the from parent1\n"
          ]
        }
      ]
    },
    {
      "cell_type": "code",
      "source": [
        "obj3.class2()"
      ],
      "metadata": {
        "colab": {
          "base_uri": "https://localhost:8080/"
        },
        "id": "wDVmIQy4ln2j",
        "outputId": "ac921a7a-7231-45af-b39b-fac135288c1d"
      },
      "execution_count": null,
      "outputs": [
        {
          "output_type": "stream",
          "name": "stdout",
          "text": [
            "This is from parent2\n"
          ]
        }
      ]
    },
    {
      "cell_type": "code",
      "source": [
        "obj3.child_class()"
      ],
      "metadata": {
        "colab": {
          "base_uri": "https://localhost:8080/"
        },
        "id": "zV3TuFnOlslT",
        "outputId": "6e05ec63-a227-455d-c705-e31fc83ecced"
      },
      "execution_count": null,
      "outputs": [
        {
          "output_type": "stream",
          "name": "stdout",
          "text": [
            "This is from child class\n"
          ]
        }
      ]
    },
    {
      "cell_type": "code",
      "source": [
        "# first parent class \n",
        "class first_class :\n",
        "  student_name = \"\"\n",
        "  def __init__(self , a , b , c ) :\n",
        "    self.a = a\n",
        "    self.b = b \n",
        "    self.c = c \n",
        "    \n",
        "  def printing(self) :\n",
        "    print(\"student_name :\" , self.student_name)\n",
        "\n",
        "# second parent class\n",
        "class second_name :\n",
        "  student_number = \"\" \n",
        "  def number(self) :\n",
        "    print(\"student_number :\" , str(self.student_number))\n",
        "    \n",
        "# child class\n",
        "class child_class(first_class , second_name) :\n",
        "  \n",
        "  def show_all(self) :\n",
        "    print(\"Now do what you have to do\")\n",
        "    print(\"student_name : \" , self.student_name)\n",
        "    print(\"student_number : \" , self.student_number)\n"
      ],
      "metadata": {
        "id": "1GFYzC0qmAfN"
      },
      "execution_count": null,
      "outputs": []
    },
    {
      "cell_type": "code",
      "source": [
        "obj4 = child_class(3,5,6)"
      ],
      "metadata": {
        "id": "nk7epaphpW40"
      },
      "execution_count": null,
      "outputs": []
    },
    {
      "cell_type": "code",
      "source": [
        "obj4.student_name = \"mahendra_gharad_patil\""
      ],
      "metadata": {
        "id": "SzNVW2xpppD8"
      },
      "execution_count": null,
      "outputs": []
    },
    {
      "cell_type": "code",
      "source": [
        "obj4.student_number = 9022856982"
      ],
      "metadata": {
        "id": "I31YV9oyqV6L"
      },
      "execution_count": null,
      "outputs": []
    },
    {
      "cell_type": "code",
      "source": [
        "obj4.show_all()"
      ],
      "metadata": {
        "colab": {
          "base_uri": "https://localhost:8080/"
        },
        "id": "1NnOok2XtZAv",
        "outputId": "084ab225-3016-43b0-9f90-61377d66799c"
      },
      "execution_count": null,
      "outputs": [
        {
          "output_type": "stream",
          "name": "stdout",
          "text": [
            "Now do what you have to do\n",
            "student_name :  mahendra_gharad_patil\n",
            "student_number :  9022856982\n"
          ]
        }
      ]
    },
    {
      "cell_type": "code",
      "source": [
        "class Batch_number:\n",
        "    batchnumber=\"\"\n",
        "    def __init__(self,a,b,c):\n",
        "        self.a=a\n",
        "        self.b=b\n",
        "        self.c=c\n",
        "        \n",
        "    def batch(self):\n",
        "        print(self.batchnumber)\n",
        "\n",
        "#parent class 2\n",
        "class course_name:\n",
        "    cname=\"\"\n",
        "    def course(self):\n",
        "        print(self.cname)\n",
        "        \n",
        "#child child\n",
        "class Student(Batch_number, course_name):\n",
        "    \n",
        "    def show(self):\n",
        "        print(\"Btach:\", self.batchnumber)\n",
        "        print(\"Course\", self.cname)\n",
        "        "
      ],
      "metadata": {
        "id": "rGqCf6NMqzPT"
      },
      "execution_count": null,
      "outputs": []
    },
    {
      "cell_type": "code",
      "source": [
        "#  1st parent class \n",
        "class person :\n",
        "\n",
        "  def __init__( self , a , b , c , d ) :\n",
        "    self.a = a\n",
        "    self.b = b\n",
        "    self.c = c\n",
        "    self.d = d \n",
        "    \n",
        "  def details(self) :\n",
        "    print( \"hellow i am \" , self.a)\n",
        "    print( \"hellow i am \" , self.b)\n",
        "    print( \"hellow i am \" , self.c)\n",
        "    print( \"hellow i am \" , self.d)\n",
        "\n",
        "# 2nd parent class \n",
        "class company :\n",
        "\n",
        "  def printed(self) :\n",
        "    print(\"i am \" , self.a)\n",
        "    print(\"i am \" , self.b)\n",
        "    print(\"i am \" , self.c)\n",
        "    print(\"i am \" , self.d)\n",
        "\n",
        "class derieved (person , company ) :\n",
        "  def show_new(self) :\n",
        "    print(\"this is the child class\")\n",
        "\n"
      ],
      "metadata": {
        "id": "XT4Il25lrT9i"
      },
      "execution_count": null,
      "outputs": []
    },
    {
      "cell_type": "code",
      "source": [
        "obj7 = derieved(\"mahendra\" , \"vikas\" , \"rohit\" , \"ritesh\" )"
      ],
      "metadata": {
        "id": "fsrMOzdowKC2"
      },
      "execution_count": null,
      "outputs": []
    },
    {
      "cell_type": "code",
      "source": [
        "obj7.printed()"
      ],
      "metadata": {
        "colab": {
          "base_uri": "https://localhost:8080/"
        },
        "id": "HPMrrB6CzZtV",
        "outputId": "51784fff-1685-4aed-ca0a-b3fefb01e91a"
      },
      "execution_count": null,
      "outputs": [
        {
          "output_type": "stream",
          "name": "stdout",
          "text": [
            "i am  datascientist\n",
            "i am  webdev\n",
            "i am  block_dev\n",
            "i am  Android_dev\n"
          ]
        }
      ]
    },
    {
      "cell_type": "code",
      "source": [
        "obj7.details()"
      ],
      "metadata": {
        "colab": {
          "base_uri": "https://localhost:8080/"
        },
        "id": "d5mVjr280RVn",
        "outputId": "d3117a4b-0183-4204-c9c7-5f7277c6de96"
      },
      "execution_count": null,
      "outputs": [
        {
          "output_type": "stream",
          "name": "stdout",
          "text": [
            "hellow i am  datascientist\n",
            "hellow i am  webdev\n",
            "hellow i am  block_dev\n",
            "hellow i am  Android_dev\n"
          ]
        }
      ]
    },
    {
      "cell_type": "markdown",
      "source": [
        "**Multilevel Inheritance**\n",
        "\n",
        "    Parent class\n",
        "        |\n",
        "    child class 1\n",
        "        |\n",
        "    proerties of parent classes\n",
        "        |\n",
        "    child class 2 \n",
        "\n",
        "using a single parent class properties in multiple child classes."
      ],
      "metadata": {
        "id": "Bf1jjqsa4qCA"
      }
    },
    {
      "cell_type": "code",
      "source": [
        "#  parent class \n",
        "class class1 :\n",
        "  def __init__(self) :\n",
        "    self.a = int(input(\"Enter the value of a \"))\n",
        "    self.b = int(input(\"Enter the value of b \"))\n",
        "\n",
        "  def add(self) :\n",
        "    return self.a + self.b\n",
        "\n",
        "# 1st child class  \n",
        "class class2(class1) :\n",
        "\n",
        "  def mul(self) :\n",
        "    return self.a * self.b \n",
        "\n",
        "# 2nd child class  \n",
        "class class3(class2) :\n",
        "\n",
        "  def sub(self) :\n",
        "    return self.a - self.b"
      ],
      "metadata": {
        "id": "OStdFpJr4pNw"
      },
      "execution_count": null,
      "outputs": []
    },
    {
      "cell_type": "code",
      "source": [
        "obj9 = class3()"
      ],
      "metadata": {
        "colab": {
          "base_uri": "https://localhost:8080/"
        },
        "id": "-4_Pyf513EgU",
        "outputId": "4f1ba570-8b16-4dd9-f94b-2d9f732a7e3d"
      },
      "execution_count": null,
      "outputs": [
        {
          "name": "stdout",
          "output_type": "stream",
          "text": [
            "Enter the value of a 56\n",
            "Enter the value of b 67\n"
          ]
        }
      ]
    },
    {
      "cell_type": "code",
      "source": [
        "obj9.add()"
      ],
      "metadata": {
        "colab": {
          "base_uri": "https://localhost:8080/"
        },
        "id": "BlQT0WpJ6tuj",
        "outputId": "757af5eb-491d-4373-cf21-baea3ebb2668"
      },
      "execution_count": null,
      "outputs": [
        {
          "output_type": "execute_result",
          "data": {
            "text/plain": [
              "123"
            ]
          },
          "metadata": {},
          "execution_count": 128
        }
      ]
    },
    {
      "cell_type": "code",
      "source": [
        "obj9.mul()"
      ],
      "metadata": {
        "colab": {
          "base_uri": "https://localhost:8080/"
        },
        "id": "JbKGPutL60lD",
        "outputId": "282f19f0-3eab-48db-ae57-e4a63b7e9646"
      },
      "execution_count": null,
      "outputs": [
        {
          "output_type": "execute_result",
          "data": {
            "text/plain": [
              "3752"
            ]
          },
          "metadata": {},
          "execution_count": 129
        }
      ]
    },
    {
      "cell_type": "code",
      "source": [
        "obj9.sub()"
      ],
      "metadata": {
        "colab": {
          "base_uri": "https://localhost:8080/"
        },
        "id": "3BQptAfn63Zj",
        "outputId": "77d9d177-6adc-46c1-9893-4244932f8ea8"
      },
      "execution_count": null,
      "outputs": [
        {
          "output_type": "execute_result",
          "data": {
            "text/plain": [
              "-11"
            ]
          },
          "metadata": {},
          "execution_count": 130
        }
      ]
    },
    {
      "cell_type": "code",
      "source": [],
      "metadata": {
        "id": "SgAy1_Aq6-p8"
      },
      "execution_count": null,
      "outputs": []
    },
    {
      "cell_type": "markdown",
      "source": [
        "**__init__.super() is used to just initilise the properties of parent class in the chilld class**"
      ],
      "metadata": {
        "id": "EKTWQ_ULDymq"
      }
    },
    {
      "cell_type": "code",
      "source": [
        "class Phones:\n",
        "    def __init__(self,brand,model,price):\n",
        "        self.brand=brand\n",
        "        self.model=model\n",
        "        self.price=price\n",
        "        \n",
        "    def specs(self):\n",
        "        return (\"brand\",self.brand,\"price\", self.price)\n",
        "    \n",
        "    def typeofphone(self):\n",
        "        if self.price > 25000:\n",
        "            return 'This is a Budget phone'\n",
        "        else:\n",
        "            return 'this is mid range phone'\n",
        "        \n",
        "class Smartphone(Phones):\n",
        "    def __init__(self,brand,model,price,ram,storage):\n",
        "        super().__init__(brand,model,price)\n",
        "        self.ram=ram\n",
        "        self.storage=storage\n",
        "        \n",
        "class Flashipphone(Smartphone):\n",
        "    def __init__(self,brand,model,price,ram,storage, frontcamera,backcamera, display):\n",
        "        super().__init__(brand,model,price,ram,storage)\n",
        "        self.frontcamera=frontcamera\n",
        "        self.backcamera=backcamera\n",
        "        self.display=display\n",
        "        "
      ],
      "metadata": {
        "id": "qpziYdP3GmGj"
      },
      "execution_count": null,
      "outputs": []
    },
    {
      "cell_type": "code",
      "source": [
        "obj90 = Flashipphone(\"samsung\" , \"s8\" , 98888 , 8 , 128 , \"yes\" , \"yes\" , \"yes\")"
      ],
      "metadata": {
        "id": "S0Sapu7PJUPg"
      },
      "execution_count": null,
      "outputs": []
    },
    {
      "cell_type": "code",
      "source": [
        "obj90.typeofphone()"
      ],
      "metadata": {
        "colab": {
          "base_uri": "https://localhost:8080/",
          "height": 36
        },
        "id": "pNRCKns0Jplv",
        "outputId": "96906a0a-ff32-41bf-a41f-3ffa167c8fc6"
      },
      "execution_count": null,
      "outputs": [
        {
          "output_type": "execute_result",
          "data": {
            "text/plain": [
              "'This is a Budget phone'"
            ],
            "application/vnd.google.colaboratory.intrinsic+json": {
              "type": "string"
            }
          },
          "metadata": {},
          "execution_count": 140
        }
      ]
    },
    {
      "cell_type": "code",
      "source": [
        "obj90.specs()"
      ],
      "metadata": {
        "colab": {
          "base_uri": "https://localhost:8080/"
        },
        "id": "JS51Hd8QLDWP",
        "outputId": "5ebc4a28-933d-41cc-9d5b-86b4fb9a6646"
      },
      "execution_count": null,
      "outputs": [
        {
          "output_type": "execute_result",
          "data": {
            "text/plain": [
              "('brand', 'samsung', 'price', 98888)"
            ]
          },
          "metadata": {},
          "execution_count": 141
        }
      ]
    },
    {
      "cell_type": "markdown",
      "source": [
        "**Hierachical Inheritance**\n",
        "\n",
        "In hierachical inheritance we can inherit the properties of one single parent class by using multiple child classes\n",
        "\n",
        "    Parent class\n",
        "        |\n",
        "    child class 1\n",
        "        |\n",
        "    child class 2\n",
        "        |\n",
        "    child class 3 "
      ],
      "metadata": {
        "id": "qWAW_ggOMXqg"
      }
    },
    {
      "cell_type": "code",
      "source": [
        "class parent1 :\n",
        "  def __init__(self , a , b ):\n",
        "    self.a = a\n",
        "    self.b = b \n",
        "\n",
        "  def add(self) :\n",
        "    return self.a + self.b \n",
        "\n",
        "class child1(parent1) :\n",
        "  def multiplication(self) :\n",
        "    return self.a*self.b\n",
        "\n",
        "class child2(parent1) :\n",
        "  def sub(self) :\n",
        "    return self.a-self.b"
      ],
      "metadata": {
        "id": "U5sAY9a7LOFN"
      },
      "execution_count": null,
      "outputs": []
    },
    {
      "cell_type": "code",
      "source": [
        "obj45 = child2(45,56)"
      ],
      "metadata": {
        "id": "os21w5haRJxe"
      },
      "execution_count": null,
      "outputs": []
    },
    {
      "cell_type": "code",
      "source": [
        "obj45.sub()"
      ],
      "metadata": {
        "colab": {
          "base_uri": "https://localhost:8080/"
        },
        "id": "A7HU5wSJRW2l",
        "outputId": "0b5a6a9d-25a5-459a-a811-02f39be7e3f9"
      },
      "execution_count": null,
      "outputs": [
        {
          "output_type": "execute_result",
          "data": {
            "text/plain": [
              "-11"
            ]
          },
          "metadata": {},
          "execution_count": 147
        }
      ]
    },
    {
      "cell_type": "code",
      "source": [
        "obj34 = child1(56,45)"
      ],
      "metadata": {
        "id": "7k8eYEGvRlpc"
      },
      "execution_count": null,
      "outputs": []
    },
    {
      "cell_type": "code",
      "source": [
        "obj34.multiplication()"
      ],
      "metadata": {
        "colab": {
          "base_uri": "https://localhost:8080/"
        },
        "id": "iXec_qj_RyfF",
        "outputId": "fd405ca6-a94a-4657-ba60-d33cf46b2919"
      },
      "execution_count": null,
      "outputs": [
        {
          "output_type": "execute_result",
          "data": {
            "text/plain": [
              "2520"
            ]
          },
          "metadata": {},
          "execution_count": 149
        }
      ]
    },
    {
      "cell_type": "code",
      "source": [
        "class Vehicle:\n",
        "    def info(self):\n",
        "        print(\"This is Vechicle\")\n",
        "        \n",
        "\n",
        "class Car(Vehicle):\n",
        "    def car_info(self,name):\n",
        "        print(\"car name\",name)\n",
        "        \n",
        "\n",
        "class Truck(Vehicle):\n",
        "    def truck_info(self,name):\n",
        "        print(\"truck name\",name)\n",
        "    \n",
        "\n",
        "    "
      ],
      "metadata": {
        "id": "kCpiFOBpR5Ud"
      },
      "execution_count": null,
      "outputs": []
    },
    {
      "cell_type": "code",
      "source": [
        "obj44 = Truck()"
      ],
      "metadata": {
        "id": "uAwQOCLiSRZM"
      },
      "execution_count": null,
      "outputs": []
    },
    {
      "cell_type": "code",
      "source": [
        "obj44.truck_info(\"mahendra\")"
      ],
      "metadata": {
        "colab": {
          "base_uri": "https://localhost:8080/"
        },
        "id": "4bRUJsXzSePF",
        "outputId": "8a76c0ac-5ed6-4767-ff13-264decd4c734"
      },
      "execution_count": null,
      "outputs": [
        {
          "output_type": "stream",
          "name": "stdout",
          "text": [
            "truck name mahendra\n"
          ]
        }
      ]
    },
    {
      "cell_type": "code",
      "source": [
        "obj44.info()"
      ],
      "metadata": {
        "colab": {
          "base_uri": "https://localhost:8080/"
        },
        "id": "9xW85lO7SkxE",
        "outputId": "4712f32f-f336-4256-8af1-f7e0aeeb6acb"
      },
      "execution_count": null,
      "outputs": [
        {
          "output_type": "stream",
          "name": "stdout",
          "text": [
            "This is Vechicle\n"
          ]
        }
      ]
    },
    {
      "cell_type": "code",
      "source": [
        "obj11 = Car()"
      ],
      "metadata": {
        "id": "NotFqyLeSw0U"
      },
      "execution_count": null,
      "outputs": []
    },
    {
      "cell_type": "code",
      "source": [
        "obj11.car_info(\"mahendra\")"
      ],
      "metadata": {
        "colab": {
          "base_uri": "https://localhost:8080/"
        },
        "id": "Fs8LOfN3S6uU",
        "outputId": "d14f2f94-3e74-42f9-eff9-33a492137cdf"
      },
      "execution_count": null,
      "outputs": [
        {
          "output_type": "stream",
          "name": "stdout",
          "text": [
            "car name mahendra\n"
          ]
        }
      ]
    },
    {
      "cell_type": "markdown",
      "source": [
        " **Hybrid Inheritance**\n",
        "\n",
        "     child_class1  parent_class  child_class2\n",
        "        |           |             |\n",
        "        |           |             | \n",
        "\n",
        "                child_class3\n",
        "                \n",
        "        In the hybrid inheritance we have one parent_class \n",
        "        called child_class1 and another class called child_class2 and \n",
        "        another child class called child_class3 \n",
        "\n",
        "        and this child class3 is directly inherited from the child_class1\n",
        "        child_class2 and also from parent_class\n",
        "\n",
        "      "
      ],
      "metadata": {
        "id": "SoWoTS5QUOTK"
      }
    },
    {
      "cell_type": "code",
      "source": [
        "class Vehicle:\n",
        "    def info(self):\n",
        "        print(\"This is Vechicle\")\n",
        "        \n",
        "\n",
        "class Car(Vehicle):\n",
        "    def car_info(self,name):\n",
        "        print(\"car name\",name)\n",
        "        \n",
        "\n",
        "class Truck(Vehicle):\n",
        "    def truck_info(self,name):\n",
        "        print(\"truck name\",name)\n",
        "        \n",
        "\n",
        "class Sportscar(Car,Vehicle):\n",
        "    def sportscar(self):\n",
        "        print(\"inisde from sports class\")"
      ],
      "metadata": {
        "id": "1hy6CGMGTDhk"
      },
      "execution_count": null,
      "outputs": []
    },
    {
      "cell_type": "code",
      "source": [
        "ob1 = Sportscar()"
      ],
      "metadata": {
        "id": "IgSbnU5FYEf3"
      },
      "execution_count": null,
      "outputs": []
    },
    {
      "cell_type": "code",
      "source": [
        "ob1.info()"
      ],
      "metadata": {
        "colab": {
          "base_uri": "https://localhost:8080/"
        },
        "id": "QSDqmUR6YI56",
        "outputId": "3256678d-8363-44c4-a07c-195393a7f313"
      },
      "execution_count": null,
      "outputs": [
        {
          "output_type": "stream",
          "name": "stdout",
          "text": [
            "This is Vechicle\n"
          ]
        }
      ]
    },
    {
      "cell_type": "code",
      "source": [
        "ob1.car_info(\"xuv300\")"
      ],
      "metadata": {
        "colab": {
          "base_uri": "https://localhost:8080/"
        },
        "id": "O_VQG40CYPnS",
        "outputId": "95a2af58-5f5d-4a84-8be3-3c0ad6ee9f53"
      },
      "execution_count": null,
      "outputs": [
        {
          "output_type": "stream",
          "name": "stdout",
          "text": [
            "car name xuv300\n"
          ]
        }
      ]
    },
    {
      "cell_type": "code",
      "source": [
        "ob1.sportscar()"
      ],
      "metadata": {
        "colab": {
          "base_uri": "https://localhost:8080/"
        },
        "id": "4uqQqANKYSh5",
        "outputId": "3fa4afe5-5710-488d-ea20-aa4f332edb91"
      },
      "execution_count": null,
      "outputs": [
        {
          "output_type": "stream",
          "name": "stdout",
          "text": [
            "inisde from sports class\n"
          ]
        }
      ]
    },
    {
      "cell_type": "code",
      "source": [
        "ob2 = Sportscar()"
      ],
      "metadata": {
        "id": "NDyjXDXcYhqu"
      },
      "execution_count": null,
      "outputs": []
    },
    {
      "cell_type": "markdown",
      "source": [
        "***1. super() is used when we nedd to build classes(child class) that extend the \n",
        "functionality of previously build classes(parent class)***\n",
        "\n",
        "***2.  super function in python is used to access method of immediate parent class***"
      ],
      "metadata": {
        "id": "_eurWw3Qk3hC"
      }
    },
    {
      "cell_type": "code",
      "source": [
        "class college :\n",
        "  def name(self) :\n",
        "    return \"institute of management studies\"\n",
        "\n",
        "class invite(college) :\n",
        "  def info_of_clg(self):\n",
        "    name_of_clg = super().name()\n",
        "    print(\"here i am studying at \" , name_of_clg)"
      ],
      "metadata": {
        "id": "8XuW6hpSk_fc"
      },
      "execution_count": 3,
      "outputs": []
    },
    {
      "cell_type": "code",
      "source": [
        "clg = invite()"
      ],
      "metadata": {
        "id": "CcVO8RnMmk41"
      },
      "execution_count": 4,
      "outputs": []
    },
    {
      "cell_type": "code",
      "source": [
        "clg.info_of_clg()"
      ],
      "metadata": {
        "colab": {
          "base_uri": "https://localhost:8080/"
        },
        "id": "JmRbz77mnOA5",
        "outputId": "d0ce1ea1-34e3-4859-e3e7-1742913c7ae6"
      },
      "execution_count": 5,
      "outputs": [
        {
          "output_type": "stream",
          "name": "stdout",
          "text": [
            "here i am studying at  institute of management studies\n"
          ]
        }
      ]
    },
    {
      "cell_type": "markdown",
      "source": [
        "when you intialize a child class in python you can  call super().__init__() method\n",
        "this initilize the parent class objcet into child class"
      ],
      "metadata": {
        "id": "C90bvMfcoD2F"
      }
    },
    {
      "cell_type": "code",
      "source": [
        "#  Example for super class \n",
        "\n",
        "class add :\n",
        "  def __init__(self , n1,n2,n3,n4) :\n",
        "    self.n1 = n1\n",
        "    self.n2 = n2\n",
        "    self.n3 = n3 \n",
        "    self.n4 = n4 \n",
        "  def add_no(self) :\n",
        "    return self.n1 + self.n2 + self.n3 + self.n4\n",
        "\n",
        "class mul(add) :\n",
        "  def __init__(self ,n1,n2,n3,n4 ) :\n",
        "    super().__init__(n1 , n2  , n3 ,  n4)\n",
        "\n",
        "  def mul_no(self) :\n",
        "    return self.n1 * self.n2 * self.n3 * self.n4\n"
      ],
      "metadata": {
        "id": "LZWzMMj3nTaR"
      },
      "execution_count": 13,
      "outputs": []
    },
    {
      "cell_type": "code",
      "source": [
        "sol = mul(3,4,5,6)"
      ],
      "metadata": {
        "id": "xyGsgO3HrJTS"
      },
      "execution_count": 15,
      "outputs": []
    },
    {
      "cell_type": "code",
      "source": [
        "sol.add_no()"
      ],
      "metadata": {
        "colab": {
          "base_uri": "https://localhost:8080/"
        },
        "id": "VnwDmeH4rL0u",
        "outputId": "3513f523-b6f6-4932-ee21-633f694ad936"
      },
      "execution_count": 16,
      "outputs": [
        {
          "output_type": "execute_result",
          "data": {
            "text/plain": [
              "18"
            ]
          },
          "metadata": {},
          "execution_count": 16
        }
      ]
    },
    {
      "cell_type": "code",
      "source": [
        "sol.mul_no()"
      ],
      "metadata": {
        "colab": {
          "base_uri": "https://localhost:8080/"
        },
        "id": "MijY4y2NrSHX",
        "outputId": "2be11ab7-3327-49fe-b3b8-14eed283422b"
      },
      "execution_count": 17,
      "outputs": [
        {
          "output_type": "execute_result",
          "data": {
            "text/plain": [
              "360"
            ]
          },
          "metadata": {},
          "execution_count": 17
        }
      ]
    },
    {
      "cell_type": "code",
      "source": [
        "# syntax for super class \n",
        "class classname(parentclass):\n",
        "    def method(self,arg):\n",
        "        super([classname],[self]).method(args)"
      ],
      "metadata": {
        "id": "yMd22BxtstBH"
      },
      "execution_count": null,
      "outputs": []
    },
    {
      "cell_type": "code",
      "source": [
        "class Parent:\n",
        "    def __init__(self):\n",
        "        print(\"This is the parent class\")\n",
        "        \n",
        "        \n",
        "class Parent1:\n",
        "    def __init__(self):\n",
        "        print(\"This is the parent1 class\")\n",
        "        \n",
        "    def info(self):\n",
        "        print(\"info\")\n",
        "class Parent2:\n",
        "    def __init__(self):\n",
        "        print(\"This is the parent2 class\")\n",
        "        \n",
        "        \n",
        "class Child(Parent1,Parent2,Parent):\n",
        "    def hello():\n",
        "        print(\"hello\")\n",
        "    \n",
        "        super(self,child).__init__()\n",
        "    "
      ],
      "metadata": {
        "id": "D07Qyukvv2IN"
      },
      "execution_count": 19,
      "outputs": []
    },
    {
      "cell_type": "code",
      "source": [
        "ob = Child()"
      ],
      "metadata": {
        "colab": {
          "base_uri": "https://localhost:8080/"
        },
        "id": "-xFgw8jOv52e",
        "outputId": "fd5a2bbb-9fa7-4dd6-ca60-bfdbc1fa72fa"
      },
      "execution_count": 21,
      "outputs": [
        {
          "output_type": "stream",
          "name": "stdout",
          "text": [
            "This is the parent1 class\n"
          ]
        }
      ]
    },
    {
      "cell_type": "code",
      "source": [],
      "metadata": {
        "id": "UtVOnqFXwAQg"
      },
      "execution_count": null,
      "outputs": []
    }
  ]
}